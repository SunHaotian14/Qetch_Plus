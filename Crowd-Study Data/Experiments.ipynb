{
 "cells": [
  {
   "cell_type": "markdown",
   "metadata": {},
   "source": [
    "# Experiment on Different Time-series Similarity Measures"
   ]
  },
  {
   "cell_type": "markdown",
   "metadata": {},
   "source": [
    "## Preprocessing"
   ]
  },
  {
   "cell_type": "code",
   "execution_count": 56,
   "metadata": {},
   "outputs": [],
   "source": [
    "# load image and libraries\n",
    "%matplotlib inline\n",
    "from matplotlib import cm\n",
    "import matplotlib.pyplot as plt\n",
    "import numpy as np\n",
    "from itertools import groupby\n",
    "\n",
    "img_path = './pngs/qst-cq2-010.png'\n",
    "img_path = './pngs/original_data/qdraw-sd.png'\n",
    "\n",
    "is_original = True\n",
    "\n",
    "def img_to_time_series(img_path, is_original):\n",
    "    # load image\n",
    "    input_image = plt.imread(img_path)\n",
    "    # exhange x and y axis\n",
    "    input_image = np.swapaxes(input_image, 0, 1)\n",
    "    # eliminate head and tail\n",
    "    head_tail = range(int(input_image.shape[0] * 0.05), int(input_image.shape[0] * 0.95))\n",
    "    input_image = input_image[head_tail, :]\n",
    "    # get averge\n",
    "    ave_image = np.mean(input_image, axis=2)\n",
    "    # get border and eliminate zeros\n",
    "    if not is_original:\n",
    "        time_series = np.trim_zeros([np.argmax(x) for x in ave_image])\n",
    "    else:\n",
    "        time_series = [np.argmax(x) for x in ave_image]\n",
    "    # rescale btw [0, 1]\n",
    "    time_series = 1 - time_series / np.max(time_series)\n",
    "    time_series /= np.max(time_series)\n",
    "\n",
    "    if is_original:\n",
    "    # get extraction range\n",
    "        red_value = (243/255, 192/255, 192/255)\n",
    "        ext_list = [np.argmin(np.abs(x[:,:3]-red_value)) for x in input_image]\n",
    "        # getting Consecutive elements\n",
    "        num_times, occurrence = max((len(list(values)), key) for key, values in groupby(ext_list))\n",
    "        ind0 = ext_list.index(occurrence)\n",
    "        ext_range = [ind0, ind0+num_times]\n",
    "        print(ext_range)\n",
    "\n",
    "    # plot for verification\n",
    "    if is_original:\n",
    "        # Visualize binary image\n",
    "        # original image\n",
    "        plt.imshow(plt.imread(img_path))\n",
    "        # loaded time-series\n",
    "        plt.figure()\n",
    "        plt.xlabel('x (pixels)',size=20)\n",
    "        plt.ylabel('y (pixels)',size=20)\n",
    "        plt.plot(ext_list)\n",
    "        plt.plot(ext_range, [270, 270], marker='*', ls='none')\n",
    "\n"
   ]
  },
  {
   "cell_type": "code",
   "execution_count": 57,
   "metadata": {},
   "outputs": [
    {
     "name": "stdout",
     "output_type": "stream",
     "text": [
      "qdraw-has.png\n",
      "qdraw-sp.png\n",
      "qdraw-fp.png\n",
      "qdraw-rb.png\n",
      "qdraw-sd.png\n",
      "qdraw-sr.png\n",
      "qdraw-cwh.png\n",
      "qdraw-hasb.png\n",
      "qdraw-ihas.png\n",
      "['has', 'sp', 'fp', 'rb', 'sd', 'sr', 'cwh', 'hasb', 'ihas']\n"
     ]
    },
    {
     "ename": "TypeError",
     "evalue": "'list' object is not callable",
     "output_type": "error",
     "traceback": [
      "\u001b[0;31m---------------------------------------------------------------------------\u001b[0m",
      "\u001b[0;31mTypeError\u001b[0m                                 Traceback (most recent call last)",
      "\u001b[1;32m/Users/haotiansun/Documents/GitHub/Qetch_Plus/Crowd-Study Data/Experiments.ipynb Cell 4\u001b[0m in \u001b[0;36m<cell line: 14>\u001b[0;34m()\u001b[0m\n\u001b[1;32m     <a href='vscode-notebook-cell:/Users/haotiansun/Documents/GitHub/Qetch_Plus/Crowd-Study%20Data/Experiments.ipynb#W4sZmlsZQ%3D%3D?line=13'>14</a>\u001b[0m \u001b[39mfor\u001b[39;00m dataset_name \u001b[39min\u001b[39;00m dataset_names:\n\u001b[1;32m     <a href='vscode-notebook-cell:/Users/haotiansun/Documents/GitHub/Qetch_Plus/Crowd-Study%20Data/Experiments.ipynb#W4sZmlsZQ%3D%3D?line=14'>15</a>\u001b[0m     img_path \u001b[39m=\u001b[39m root_path \u001b[39m+\u001b[39m \u001b[39m'\u001b[39m\u001b[39mqdraw-\u001b[39m\u001b[39m'\u001b[39m \u001b[39m+\u001b[39m dataset_name \u001b[39m+\u001b[39m \u001b[39m'\u001b[39m\u001b[39m.png\u001b[39m\u001b[39m'\u001b[39m\n\u001b[0;32m---> <a href='vscode-notebook-cell:/Users/haotiansun/Documents/GitHub/Qetch_Plus/Crowd-Study%20Data/Experiments.ipynb#W4sZmlsZQ%3D%3D?line=15'>16</a>\u001b[0m     time_series, ext_range \u001b[39m=\u001b[39m img_to_time_series(img_path, \u001b[39mTrue\u001b[39;49;00m)\n\u001b[1;32m     <a href='vscode-notebook-cell:/Users/haotiansun/Documents/GitHub/Qetch_Plus/Crowd-Study%20Data/Experiments.ipynb#W4sZmlsZQ%3D%3D?line=16'>17</a>\u001b[0m     \u001b[39m# save time-series\u001b[39;00m\n\u001b[1;32m     <a href='vscode-notebook-cell:/Users/haotiansun/Documents/GitHub/Qetch_Plus/Crowd-Study%20Data/Experiments.ipynb#W4sZmlsZQ%3D%3D?line=17'>18</a>\u001b[0m     np\u001b[39m.\u001b[39msave(\u001b[39m'\u001b[39m\u001b[39m./processed_datasets/\u001b[39m\u001b[39m'\u001b[39m \u001b[39m+\u001b[39m \u001b[39m'\u001b[39m\u001b[39moriginal\u001b[39m\u001b[39m'\u001b[39m \u001b[39m+\u001b[39m dataset_name \u001b[39m+\u001b[39m \u001b[39m'\u001b[39m\u001b[39m.npy\u001b[39m\u001b[39m'\u001b[39m, time_series)\n",
      "\u001b[1;32m/Users/haotiansun/Documents/GitHub/Qetch_Plus/Crowd-Study Data/Experiments.ipynb Cell 4\u001b[0m in \u001b[0;36mimg_to_time_series\u001b[0;34m(img_path, is_original)\u001b[0m\n\u001b[1;32m     <a href='vscode-notebook-cell:/Users/haotiansun/Documents/GitHub/Qetch_Plus/Crowd-Study%20Data/Experiments.ipynb#W4sZmlsZQ%3D%3D?line=34'>35</a>\u001b[0m ext_list \u001b[39m=\u001b[39m [np\u001b[39m.\u001b[39margmin(np\u001b[39m.\u001b[39mabs(x[:,:\u001b[39m3\u001b[39m]\u001b[39m-\u001b[39mred_value)) \u001b[39mfor\u001b[39;00m x \u001b[39min\u001b[39;00m input_image]\n\u001b[1;32m     <a href='vscode-notebook-cell:/Users/haotiansun/Documents/GitHub/Qetch_Plus/Crowd-Study%20Data/Experiments.ipynb#W4sZmlsZQ%3D%3D?line=35'>36</a>\u001b[0m \u001b[39m# getting Consecutive elements\u001b[39;00m\n\u001b[0;32m---> <a href='vscode-notebook-cell:/Users/haotiansun/Documents/GitHub/Qetch_Plus/Crowd-Study%20Data/Experiments.ipynb#W4sZmlsZQ%3D%3D?line=36'>37</a>\u001b[0m num_times, occurrence \u001b[39m=\u001b[39m \u001b[39mmax\u001b[39;49m((\u001b[39mlen\u001b[39;49m(\u001b[39mlist\u001b[39;49m(values)), key) \u001b[39mfor\u001b[39;49;00m key, values \u001b[39min\u001b[39;49;00m groupby(ext_list))\n\u001b[1;32m     <a href='vscode-notebook-cell:/Users/haotiansun/Documents/GitHub/Qetch_Plus/Crowd-Study%20Data/Experiments.ipynb#W4sZmlsZQ%3D%3D?line=37'>38</a>\u001b[0m ind0 \u001b[39m=\u001b[39m ext_list\u001b[39m.\u001b[39mindex(occurrence)\n\u001b[1;32m     <a href='vscode-notebook-cell:/Users/haotiansun/Documents/GitHub/Qetch_Plus/Crowd-Study%20Data/Experiments.ipynb#W4sZmlsZQ%3D%3D?line=38'>39</a>\u001b[0m ext_range \u001b[39m=\u001b[39m [ind0, ind0\u001b[39m+\u001b[39mnum_times]\n",
      "\u001b[1;32m/Users/haotiansun/Documents/GitHub/Qetch_Plus/Crowd-Study Data/Experiments.ipynb Cell 4\u001b[0m in \u001b[0;36m<genexpr>\u001b[0;34m(.0)\u001b[0m\n\u001b[1;32m     <a href='vscode-notebook-cell:/Users/haotiansun/Documents/GitHub/Qetch_Plus/Crowd-Study%20Data/Experiments.ipynb#W4sZmlsZQ%3D%3D?line=34'>35</a>\u001b[0m ext_list \u001b[39m=\u001b[39m [np\u001b[39m.\u001b[39margmin(np\u001b[39m.\u001b[39mabs(x[:,:\u001b[39m3\u001b[39m]\u001b[39m-\u001b[39mred_value)) \u001b[39mfor\u001b[39;00m x \u001b[39min\u001b[39;00m input_image]\n\u001b[1;32m     <a href='vscode-notebook-cell:/Users/haotiansun/Documents/GitHub/Qetch_Plus/Crowd-Study%20Data/Experiments.ipynb#W4sZmlsZQ%3D%3D?line=35'>36</a>\u001b[0m \u001b[39m# getting Consecutive elements\u001b[39;00m\n\u001b[0;32m---> <a href='vscode-notebook-cell:/Users/haotiansun/Documents/GitHub/Qetch_Plus/Crowd-Study%20Data/Experiments.ipynb#W4sZmlsZQ%3D%3D?line=36'>37</a>\u001b[0m num_times, occurrence \u001b[39m=\u001b[39m \u001b[39mmax\u001b[39m((\u001b[39mlen\u001b[39m(\u001b[39mlist\u001b[39;49m(values)), key) \u001b[39mfor\u001b[39;00m key, values \u001b[39min\u001b[39;00m groupby(ext_list))\n\u001b[1;32m     <a href='vscode-notebook-cell:/Users/haotiansun/Documents/GitHub/Qetch_Plus/Crowd-Study%20Data/Experiments.ipynb#W4sZmlsZQ%3D%3D?line=37'>38</a>\u001b[0m ind0 \u001b[39m=\u001b[39m ext_list\u001b[39m.\u001b[39mindex(occurrence)\n\u001b[1;32m     <a href='vscode-notebook-cell:/Users/haotiansun/Documents/GitHub/Qetch_Plus/Crowd-Study%20Data/Experiments.ipynb#W4sZmlsZQ%3D%3D?line=38'>39</a>\u001b[0m ext_range \u001b[39m=\u001b[39m [ind0, ind0\u001b[39m+\u001b[39mnum_times]\n",
      "\u001b[0;31mTypeError\u001b[0m: 'list' object is not callable"
     ]
    }
   ],
   "source": [
    "import os\n",
    " \n",
    "root_path = './pngs/original_data/'\n",
    "# to store files in a list\n",
    "dataset_names = []\n",
    "# dirs=directories\n",
    "for (root, dirs, file) in os.walk(root_path):\n",
    "    for f in file:\n",
    "        if '.png' in f:\n",
    "            print(f)\n",
    "            dataset_names.append(f.removeprefix('qdraw-').removesuffix('.png'))\n",
    "print(dataset_names)\n",
    "\n",
    "for dataset_name in dataset_names:\n",
    "    img_path = root_path + 'qdraw-' + dataset_name + '.png'\n",
    "    time_series, ext_range = img_to_time_series(img_path, True)\n",
    "    # save time-series\n",
    "    np.save('./processed_datasets/' + 'original' + dataset_name + '.npy', time_series)\n",
    "    np.save('./processed_datasets/' + 'original' + dataset_name + '.npy', ext_range)\n",
    "\n"
   ]
  }
 ],
 "metadata": {
  "kernelspec": {
   "display_name": "Python 3.9.12 ('base')",
   "language": "python",
   "name": "python3"
  },
  "language_info": {
   "codemirror_mode": {
    "name": "ipython",
    "version": 3
   },
   "file_extension": ".py",
   "mimetype": "text/x-python",
   "name": "python",
   "nbconvert_exporter": "python",
   "pygments_lexer": "ipython3",
   "version": "3.9.12"
  },
  "orig_nbformat": 4,
  "vscode": {
   "interpreter": {
    "hash": "7565caab8eb65219391f22c8065d75359b61fe2354d09a736de30f82e6269c7c"
   }
  }
 },
 "nbformat": 4,
 "nbformat_minor": 2
}
